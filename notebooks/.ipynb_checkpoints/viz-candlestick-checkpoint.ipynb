{
 "cells": [
  {
   "cell_type": "code",
   "execution_count": 2,
   "id": "07270aac",
   "metadata": {},
   "outputs": [
    {
     "ename": "ModuleNotFoundError",
     "evalue": "No module named 'mplfinance'",
     "output_type": "error",
     "traceback": [
      "\u001b[0;31m---------------------------------------------------------------------------\u001b[0m",
      "\u001b[0;31mModuleNotFoundError\u001b[0m                       Traceback (most recent call last)",
      "Cell \u001b[0;32mIn[2], line 2\u001b[0m\n\u001b[1;32m      1\u001b[0m \u001b[38;5;28;01mimport\u001b[39;00m \u001b[38;5;21;01mpandas\u001b[39;00m \u001b[38;5;28;01mas\u001b[39;00m \u001b[38;5;21;01mpd\u001b[39;00m\n\u001b[0;32m----> 2\u001b[0m \u001b[38;5;28;01mimport\u001b[39;00m \u001b[38;5;21;01mmplfinance\u001b[39;00m \u001b[38;5;28;01mas\u001b[39;00m \u001b[38;5;21;01mmpf\u001b[39;00m\n\u001b[1;32m      3\u001b[0m \u001b[38;5;28;01mimport\u001b[39;00m \u001b[38;5;21;01mos\u001b[39;00m\n\u001b[1;32m      5\u001b[0m \u001b[38;5;28mprint\u001b[39m(os\u001b[38;5;241m.\u001b[39mgetcwd())\n",
      "\u001b[0;31mModuleNotFoundError\u001b[0m: No module named 'mplfinance'"
     ]
    }
   ],
   "source": [
    "import pandas as pd\n",
    "import mplfinance as mpf\n",
    "import os\n",
    "\n",
    "print(os.getcwd())\n",
    "\n",
    "# Check if file exists\n",
    "file_path = '../scraper/binance_data_merged/klines/30m/merged.csv'\n",
    "if not os.path.exists(file_path):\n",
    "    raise FileNotFoundError(f\"CSV file not found at path: {file_path}\")\n",
    "\n",
    "# Read the CSV data\n",
    "df = pd.read_csv(file_path)\n",
    "\n",
    "# Ensure correct data format for candlestick chart\n",
    "df['open_time'] = pd.to_datetime(df['open_time'], unit='ms')  # Convert to datetime\n",
    "df.set_index('open_time', inplace=True)  # Set datetime as the index\n",
    "df = df.rename(columns={\n",
    "    'open': 'Open',\n",
    "    'high': 'High',\n",
    "    'low': 'Low',\n",
    "    'close': 'Close',\n",
    "    'volume': 'Volume'\n",
    "})  # Rename columns to match mplfinance's expected format\n",
    "\n",
    "# Select only the necessary columns\n",
    "candlestick_df = df[['Open', 'High', 'Low', 'Close', 'Volume']]\n",
    "\n",
    "# Plot candlestick chart with volume\n",
    "mpf.plot(candlestick_df, \n",
    "         type='candle', \n",
    "         volume=True, \n",
    "         title='Bitcoin Price and Volume Over Time (30m)', \n",
    "         style='yahoo', \n",
    "         figsize=(15, 8))\n"
   ]
  },
  {
   "cell_type": "code",
   "execution_count": null,
   "id": "14afe9f5",
   "metadata": {},
   "outputs": [],
   "source": []
  }
 ],
 "metadata": {
  "kernelspec": {
   "display_name": "Python 3 (ipykernel)",
   "language": "python",
   "name": "python3"
  },
  "language_info": {
   "codemirror_mode": {
    "name": "ipython",
    "version": 3
   },
   "file_extension": ".py",
   "mimetype": "text/x-python",
   "name": "python",
   "nbconvert_exporter": "python",
   "pygments_lexer": "ipython3",
   "version": "3.11.2"
  }
 },
 "nbformat": 4,
 "nbformat_minor": 5
}
